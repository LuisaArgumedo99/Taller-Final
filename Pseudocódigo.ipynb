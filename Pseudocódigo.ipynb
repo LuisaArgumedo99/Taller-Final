{
  "nbformat": 4,
  "nbformat_minor": 0,
  "metadata": {
    "colab": {
      "provenance": [],
      "authorship_tag": "ABX9TyN9gBXpovH0+rB9CwNiKqXM",
      "include_colab_link": true
    },
    "kernelspec": {
      "name": "python3",
      "display_name": "Python 3"
    },
    "language_info": {
      "name": "python"
    }
  },
  "cells": [
    {
      "cell_type": "markdown",
      "metadata": {
        "id": "view-in-github",
        "colab_type": "text"
      },
      "source": [
        "<a href=\"https://colab.research.google.com/github/LuisaArgumedo99/Taller-Final/blob/main/Pseudoc%C3%B3digo.ipynb\" target=\"_parent\"><img src=\"https://colab.research.google.com/assets/colab-badge.svg\" alt=\"Open In Colab\"/></a>"
      ]
    },
    {
      "cell_type": "markdown",
      "source": [
        "INICIO\n",
        "\n",
        "    PRINT \"Bienvenido a la TIENDA SHAMAN TOOLS\"\n",
        "\n",
        "    WHILE TRUE DO\n",
        "        PRINT \"Menú Principal\"\n",
        "        PRINT \"1. Iniciar Sesión\"\n",
        "        PRINT \"2. Salir\"\n",
        "\n",
        "        DECLARE opción AS INTEGER\n",
        "        INPUT opción\n",
        "\n",
        "        IF opción = 2 THEN\n",
        "            PRINT \"Cerrando el sistema...\"\n",
        "            BREAK\n",
        "\n",
        "        IF opción = 1 THEN\n",
        "            CALL Login()\n",
        "        ELSE\n",
        "            PRINT \"Opción no válida. Por favor, seleccione una opción correcta.\"\n",
        "        END IF\n",
        "    END WHILE\n",
        "\n",
        "FIN"
      ],
      "metadata": {
        "id": "3wDsLjWw3Q4w"
      }
    },
    {
      "cell_type": "markdown",
      "source": [
        "FUNCTION Login()\n",
        "    WHILE TRUE DO\n",
        "        PRINT \"Ingrese nombre de usuario:\"\n",
        "        DECLARE nombre AS STRING\n",
        "        INPUT nombre\n",
        "        PRINT \"Ingrese contraseña:\"\n",
        "        DECLARE contraseña AS STRING\n",
        "        INPUT contraseña\n",
        "\n",
        "        IF VERIFICAR credenciales(nombre, contraseña) THEN\n",
        "            DECLARE rol AS STRING\n",
        "            rol = obtenerRol(nombre)\n",
        "            PRINT \"Sesión iniciada. Menú según el Rol:\"\n",
        "            IF rol = \"admin\" THEN\n",
        "                CALL AdminMenu()\n",
        "            ELSE\n",
        "                CALL VendedorMenu()\n",
        "            END IF\n",
        "            BREAK\n",
        "        ELSE\n",
        "            PRINT \"Error: Credenciales incorrectas. Intente de nuevo.\"\n",
        "        END IF\n",
        "    END WHILE\n",
        "END FUNCTION"
      ],
      "metadata": {
        "id": "3jcnvxfh3Zjz"
      }
    },
    {
      "cell_type": "markdown",
      "source": [
        "FUNCTION AdminMenu()\n",
        "    WHILE TRUE DO\n",
        "        PRINT \"Menú Admin\"\n",
        "        PRINT \"1. Registrar usuario\"\n",
        "        PRINT \"2. Agregar/Actualizar producto\"\n",
        "        PRINT \"3. Consultar inventario\"\n",
        "        PRINT \"4. Comprar productos\"\n",
        "        PRINT \"5. Ver resumen de ventas\"\n",
        "        PRINT \"6. Salir\"\n",
        "\n",
        "        DECLARE opción AS INTEGER\n",
        "        INPUT opción\n",
        "\n",
        "        IF opción = 1 THEN\n",
        "            CALL RegistrarUsuario()\n",
        "        ELSE IF opción = 2 THEN\n",
        "            CALL AgregarActualizarProducto()\n",
        "        ELSE IF opción = 3 THEN\n",
        "            CALL ConsultarInventario()\n",
        "        ELSE IF opción = 4 THEN\n",
        "            CALL ComprarProductos()\n",
        "        ELSE IF opción = 5 THEN\n",
        "            CALL VerResumenVentas()\n",
        "        ELSE IF opción = 6 THEN\n",
        "            BREAK\n",
        "        ELSE\n",
        "            PRINT \"Opción no válida. Por favor, seleccione una opción correcta.\"\n",
        "        END IF\n",
        "    END WHILE\n",
        "END FUNCTION"
      ],
      "metadata": {
        "id": "ab4TvZpb3dUK"
      }
    },
    {
      "cell_type": "markdown",
      "source": [
        "FUNCTION VendedorMenu()\n",
        "    WHILE TRUE DO\n",
        "        PRINT \"Menú Vendedor\"\n",
        "        PRINT \"1. Consultar productos\"\n",
        "        PRINT \"2. Vender productos\"\n",
        "        PRINT \"3. Salir\"\n",
        "\n",
        "        DECLARE opción AS INTEGER\n",
        "        INPUT opción\n",
        "\n",
        "        IF opción = 1 THEN\n",
        "            CALL ConsultarProductos()\n",
        "        ELSE IF opción = 2 THEN\n",
        "            CALL VenderProductos()\n",
        "        ELSE IF opción = 3 THEN\n",
        "            BREAK\n",
        "        ELSE\n",
        "            PRINT \"Opción no válida. Por favor, seleccione una opción correcta.\"\n",
        "        END IF\n",
        "    END WHILE\n",
        "END FUNCTION"
      ],
      "metadata": {
        "id": "w4vOkfy43iNm"
      }
    },
    {
      "cell_type": "markdown",
      "source": [
        "FUNCTION RegistrarUsuario()\n",
        "\n",
        "    PRINT \"Ingrese nombre del nuevo usuario:\"\n",
        "    DECLARE nuevoNombre AS STRING\n",
        "    INPUT nuevoNombre\n",
        "    PRINT \"Ingrese contraseña del nuevo usuario:\"\n",
        "    DECLARE nuevaContraseña AS STRING\n",
        "    INPUT nuevaContraseña\n",
        "    PRINT \"Ingrese rol del nuevo usuario (admin/vendedor):\"\n",
        "    DECLARE nuevoRol AS STRING\n",
        "    INPUT nuevoRol\n",
        "    VALIDAR y AGREGAR nuevo usuario a la base de datos\n",
        "    PRINT \"Usuario creado exitosamente.\"\n",
        "END FUNCTION"
      ],
      "metadata": {
        "id": "wjZagYRU3mU3"
      }
    },
    {
      "cell_type": "markdown",
      "source": [
        "FUNCTION AgregarActualizarProducto()\n",
        "\n",
        "    PRINT \"Ingrese código del producto:\"\n",
        "    DECLARE codigo AS STRING\n",
        "    INPUT codigo\n",
        "    PRINT \"Ingrese nombre del producto:\"\n",
        "    DECLARE nombre AS STRING\n",
        "    INPUT nombre\n",
        "    PRINT \"Ingrese precio del producto:\"\n",
        "    DECLARE precio AS FLOAT\n",
        "    INPUT precio\n",
        "    PRINT \"Ingrese cantidad del producto:\"\n",
        "    DECLARE cantidad AS INTEGER\n",
        "    INPUT cantidad\n",
        "\n",
        "    IF producto existe EN la base de datos THEN\n",
        "        ACTUALIZAR cantidad del producto\n",
        "        PRINT \"Cantidad del producto actualizada.\"\n",
        "    ELSE\n",
        "        AGREGAR nuevo producto a la base de datos\n",
        "        PRINT \"Producto agregado al inventario.\"\n",
        "    END IF\n",
        "END FUNCTION"
      ],
      "metadata": {
        "id": "g0KPdHWL3tkw"
      }
    },
    {
      "cell_type": "markdown",
      "source": [
        "FUNCTION ConsultarInventario()\n",
        "\n",
        "    PRINT \"Ingrese código del producto (o presione '0' para listar todos):\"\n",
        "    DECLARE codigo AS STRING\n",
        "    INPUT codigo\n",
        "\n",
        "    IF codigo = \"0\" THEN\n",
        "        LISTAR todos los productos\n",
        "    ELSE\n",
        "        IF producto existe EN la base de datos THEN\n",
        "            PRINT \"Detalles del producto:\"\n",
        "            PRINT detalles de producto[codigo]\n",
        "        ELSE\n",
        "            PRINT \"Producto no encontrado.\"\n",
        "        END IF\n",
        "    END IF\n",
        "END FUNCTION"
      ],
      "metadata": {
        "id": "_-GYJFcO3zQI"
      }
    },
    {
      "cell_type": "markdown",
      "source": [
        "FUNCTION ComprarProductos()\n",
        "\n",
        "    PRINT \"Ingrese código del producto:\"\n",
        "    DECLARE codigo AS STRING\n",
        "    INPUT codigo\n",
        "    PRINT \"Ingrese cantidad a comprar:\"\n",
        "    DECLARE cantidad AS INTEGER\n",
        "    INPUT cantidad\n",
        "\n",
        "    IF producto existe EN la base de datos THEN\n",
        "        AUMENTAR cantidad del producto\n",
        "        PRINT \"Cantidad de producto actualizada.\"\n",
        "    ELSE\n",
        "        AGREGAR producto al inventario\n",
        "        PRINT \"Producto agregado al inventario.\"\n",
        "    END IF\n",
        "END FUNCTION\n",
        "\n"
      ],
      "metadata": {
        "id": "R4Mb6ujr329o"
      }
    },
    {
      "cell_type": "markdown",
      "source": [
        "FUNCTION VerResumenVentas()\n",
        "\n",
        "    PRINT \"Resumen de ventas:\"\n",
        "    LISTAR productos vendidos, cantidad y total generado\n",
        "    \n",
        "END FUNCTION\n",
        "\n",
        "FUNCTION VenderProductos()\n",
        "\n",
        "    PRINT \"Ingrese código del producto:\"\n",
        "    DECLARE codigo AS STRING\n",
        "    INPUT codigo\n",
        "    PRINT \"Ingrese cantidad a vender:\"\n",
        "    DECLARE cantidad AS INTEGER\n",
        "    INPUT cantidad\n",
        "\n",
        "    IF verificar disponibilidad en inventario THEN\n",
        "        DISMINUIR cantidad en inventario\n",
        "        REGISTRAR venta en la base de datos\n",
        "        PRINT \"Venta realizada con éxito.\"\n",
        "    ELSE\n",
        "        PRINT \"Stock insuficiente para realizar la venta.\"\n",
        "    END IF\n",
        "END FUNCTION"
      ],
      "metadata": {
        "id": "nX79PGOy38bL"
      }
    }
  ]
}